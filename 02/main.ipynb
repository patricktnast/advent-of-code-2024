{
 "cells": [
  {
   "cell_type": "code",
   "execution_count": null,
   "metadata": {},
   "outputs": [],
   "source": [
    "from aocd import get_data"
   ]
  },
  {
   "cell_type": "code",
   "execution_count": null,
   "metadata": {},
   "outputs": [],
   "source": [
    "raw_input_data = get_data(day=2)"
   ]
  },
  {
   "cell_type": "code",
   "execution_count": null,
   "metadata": {},
   "outputs": [],
   "source": [
    "input_data = raw_input_data.split('\\n')\n",
    "input_data = [[int(level) for level in report.split(' ')] for report in input_data]"
   ]
  },
  {
   "cell_type": "code",
   "execution_count": null,
   "metadata": {},
   "outputs": [],
   "source": [
    "def is_always_safe(report: list[int]) -> bool:\n",
    "    diff = [report[i+1] - report[i] for i in range(len(report)-1)]\n",
    "    if not (all([3 >= x > 0 for x in diff]) or all([-3 <= x < 0 for x in diff])):\n",
    "        return False\n",
    "    return True"
   ]
  },
  {
   "cell_type": "code",
   "execution_count": null,
   "metadata": {},
   "outputs": [],
   "source": [
    "total = 0\n",
    "for report in input_data:\n",
    "    if is_always_safe(report):\n",
    "        total += 1\n",
    "total"
   ]
  },
  {
   "cell_type": "markdown",
   "metadata": {},
   "source": [
    "## Part 2"
   ]
  },
  {
   "cell_type": "code",
   "execution_count": null,
   "metadata": {},
   "outputs": [],
   "source": [
    "def is_safe(report):\n",
    "    mag = 3\n",
    "    has_mull = True\n",
    "    i,j = 0,1\n",
    "    if report[i] == report[j]:\n",
    "        has_mull = False\n",
    "        j += 1\n",
    "    if report[i] > report[j]:\n",
    "        sign = -1\n",
    "    else:\n",
    "        sign = 1\n",
    "    while i < j < len(report):\n",
    "        diff = sign * (report[j] - report[i])\n",
    "        if (diff <= 0 or diff > mag):\n",
    "            if has_mull:\n",
    "                has_mull = False\n",
    "            else:\n",
    "                return False\n",
    "        i += 1\n",
    "        j += 1\n",
    "    return True"
   ]
  },
  {
   "cell_type": "code",
   "execution_count": null,
   "metadata": {},
   "outputs": [],
   "source": [
    "total = 0\n",
    "for report in input_data:\n",
    "    if is_safe(report):\n",
    "        total += 1\n",
    "total"
   ]
  }
 ],
 "metadata": {
  "kernelspec": {
   "display_name": "aoc",
   "language": "python",
   "name": "python3"
  },
  "language_info": {
   "codemirror_mode": {
    "name": "ipython",
    "version": 3
   },
   "file_extension": ".py",
   "mimetype": "text/x-python",
   "name": "python",
   "nbconvert_exporter": "python",
   "pygments_lexer": "ipython3",
   "version": "3.12.7"
  }
 },
 "nbformat": 4,
 "nbformat_minor": 2
}
