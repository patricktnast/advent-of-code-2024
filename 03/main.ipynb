{
 "cells": [
  {
   "cell_type": "code",
   "execution_count": null,
   "metadata": {},
   "outputs": [],
   "source": [
    "from aocd import get_data\n",
    "import re"
   ]
  },
  {
   "cell_type": "code",
   "execution_count": null,
   "metadata": {},
   "outputs": [],
   "source": [
    "raw_input_data = get_data(day=3)"
   ]
  },
  {
   "cell_type": "code",
   "execution_count": null,
   "metadata": {},
   "outputs": [],
   "source": [
    "allmulls = re.findall(r\"mul\\(\\d+,\\d+\\)\",raw_input_data)\n",
    "nums = [re.split(\",\",re.findall(r\"\\d+,\\d+\", s)[0]) for s in allmulls]\n",
    "vals = [int(s[0]) * int(s[1]) for s in nums]\n",
    "sum(vals)"
   ]
  },
  {
   "cell_type": "markdown",
   "metadata": {},
   "source": [
    "## Part 2"
   ]
  },
  {
   "cell_type": "code",
   "execution_count": null,
   "metadata": {},
   "outputs": [],
   "source": [
    "muls = [(x.start(),x.group(0)) for x in re.finditer(r\"mul\\(\\d+,\\d+\\)\", raw_input_data)]\n",
    "dos = [(x.start(), x.group(0)) for x in re.finditer(r\"do\\(\\)\", raw_input_data)]\n",
    "donts = [(x.start(), x.group(0)) for x in re.finditer(r\"don\\'t\\(\\)\", raw_input_data)]"
   ]
  },
  {
   "cell_type": "code",
   "execution_count": null,
   "metadata": {},
   "outputs": [],
   "source": [
    "sorted_ins = [ins[1] for ins in sorted(muls + dos + donts,key=lambda tup: tup[0])]"
   ]
  },
  {
   "cell_type": "code",
   "execution_count": null,
   "metadata": {},
   "outputs": [],
   "source": [
    "def process_ins(ins_list):\n",
    "    do = True\n",
    "    answer = 0\n",
    "    for ins in ins_list:\n",
    "        if ins == \"don't()\":\n",
    "            do = False\n",
    "        elif ins == \"do()\":\n",
    "            do = True\n",
    "        else:\n",
    "            if do:\n",
    "                a, b = re.split(\",\",re.findall(r\"\\d+,\\d+\", ins)[0])\n",
    "                answer += int(a)*int(b)\n",
    "    return answer\n"
   ]
  },
  {
   "cell_type": "code",
   "execution_count": null,
   "metadata": {},
   "outputs": [],
   "source": [
    "process_ins(sorted_ins)"
   ]
  }
 ],
 "metadata": {
  "kernelspec": {
   "display_name": "aoc",
   "language": "python",
   "name": "python3"
  },
  "language_info": {
   "codemirror_mode": {
    "name": "ipython",
    "version": 3
   },
   "file_extension": ".py",
   "mimetype": "text/x-python",
   "name": "python",
   "nbconvert_exporter": "python",
   "pygments_lexer": "ipython3",
   "version": "3.12.7"
  }
 },
 "nbformat": 4,
 "nbformat_minor": 2
}
