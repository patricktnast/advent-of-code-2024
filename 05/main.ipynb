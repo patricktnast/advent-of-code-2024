{
 "cells": [
  {
   "cell_type": "code",
   "execution_count": null,
   "metadata": {},
   "outputs": [],
   "source": [
    "from aocd import get_data\n",
    "import networkx as nx"
   ]
  },
  {
   "cell_type": "code",
   "execution_count": null,
   "metadata": {},
   "outputs": [],
   "source": [
    "raw_input_data = get_data(day=5)\n",
    "example_data = \"\"\"47|53\n",
    "97|13\n",
    "97|61\n",
    "97|47\n",
    "75|29\n",
    "61|13\n",
    "75|53\n",
    "29|13\n",
    "97|29\n",
    "53|29\n",
    "61|53\n",
    "97|53\n",
    "61|29\n",
    "47|13\n",
    "75|47\n",
    "97|75\n",
    "47|61\n",
    "75|61\n",
    "47|29\n",
    "75|13\n",
    "53|13\n",
    "\n",
    "75,47,61,53,29\n",
    "97,61,53,29,13\n",
    "75,29,13\n",
    "75,97,47,61,53\n",
    "61,13,29\n",
    "97,13,75,29,47\"\"\""
   ]
  },
  {
   "cell_type": "code",
   "execution_count": null,
   "metadata": {},
   "outputs": [],
   "source": [
    "def process_data(raw_data):\n",
    "    input_data = raw_data.split(\"\\n\\n\")\n",
    "    ordering_rules = input_data[0].split(\"\\n\")\n",
    "    updates = input_data[1].split(\"\\n\")\n",
    "    ordering_rules = [tuple(rule.split('|')) for rule in ordering_rules]\n",
    "    ordering_rules = [(int(s[0]), int(s[1])) for s in ordering_rules]\n",
    "    updates = [update.split(',') for update in updates]\n",
    "    updates = [[int(n) for n in update] for update in updates]\n",
    "    return ordering_rules, updates"
   ]
  },
  {
   "cell_type": "code",
   "execution_count": null,
   "metadata": {},
   "outputs": [],
   "source": [
    "def check_rule(update_map: list[int], rule):\n",
    "    if rule[0] in update_map and rule[1] in update_map and update_map[rule[1]] < update_map[rule[0]]:\n",
    "        return False\n",
    "    return True\n",
    "\n",
    "def check_all_rules(update, ordering_rules):\n",
    "    update_map = {p:i for i, p in enumerate(update)}\n",
    "\n",
    "    for rule in ordering_rules:\n",
    "        if not check_rule(update_map, rule):\n",
    "            return False\n",
    "    return True\n",
    "    \n",
    "def get_all_valid_updates(ordering_rules, updates):\n",
    "    valid_updates = []\n",
    "    for update in updates:\n",
    "        if check_all_rules(update, ordering_rules):\n",
    "            valid_updates.append(update)\n",
    "    return valid_updates\n",
    "\n",
    "def get_invalid_updates(ordering_rules, updates):\n",
    "    valid_updates = get_all_valid_updates(ordering_rules,updates)\n",
    "    return [update for update in updates if update not in valid_updates]\n"
   ]
  },
  {
   "cell_type": "code",
   "execution_count": null,
   "metadata": {},
   "outputs": [],
   "source": [
    "ordering_rules, updates = process_data(raw_input_data)\n",
    "valid_updates = get_all_valid_updates(ordering_rules,updates)"
   ]
  },
  {
   "cell_type": "code",
   "execution_count": null,
   "metadata": {},
   "outputs": [],
   "source": [
    "sum([update[len(update)//2] for update in valid_updates])"
   ]
  },
  {
   "cell_type": "markdown",
   "metadata": {},
   "source": [
    "## Part 2"
   ]
  },
  {
   "cell_type": "code",
   "execution_count": null,
   "metadata": {},
   "outputs": [],
   "source": [
    "ordering_rules, updates = process_data(example_data)\n",
    "invalid_updates = get_invalid_updates(ordering_rules,updates)"
   ]
  },
  {
   "cell_type": "code",
   "execution_count": null,
   "metadata": {},
   "outputs": [],
   "source": [
    "def reorder_graph(update, ordering_rules):\n",
    "    graph = nx.DiGraph()\n",
    "    graph.add_nodes_from(update)\n",
    "    relevant_rules = [rule for rule in ordering_rules if rule[0] in update and rule[1] in update]\n",
    "    graph.add_edges_from(relevant_rules)\n",
    "    return nx.dag_longest_path(graph)\n",
    "\n",
    "def get_answer(data):\n",
    "    answer = 0\n",
    "    ordering_rules, updates = process_data(data)\n",
    "    invalid_updates = get_invalid_updates(ordering_rules,updates)\n",
    "    for update in invalid_updates:\n",
    "        answer += reorder_graph(update, ordering_rules)[len(update) // 2]\n",
    "    return answer"
   ]
  },
  {
   "cell_type": "code",
   "execution_count": null,
   "metadata": {},
   "outputs": [],
   "source": [
    "get_answer(raw_input_data)"
   ]
  },
  {
   "cell_type": "code",
   "execution_count": null,
   "metadata": {},
   "outputs": [],
   "source": []
  }
 ],
 "metadata": {
  "kernelspec": {
   "display_name": "aoc",
   "language": "python",
   "name": "python3"
  },
  "language_info": {
   "codemirror_mode": {
    "name": "ipython",
    "version": 3
   },
   "file_extension": ".py",
   "mimetype": "text/x-python",
   "name": "python",
   "nbconvert_exporter": "python",
   "pygments_lexer": "ipython3",
   "version": "3.12.7"
  }
 },
 "nbformat": 4,
 "nbformat_minor": 2
}
