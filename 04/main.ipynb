{
 "cells": [
  {
   "cell_type": "code",
   "execution_count": null,
   "metadata": {},
   "outputs": [],
   "source": [
    "from aocd import get_data"
   ]
  },
  {
   "cell_type": "code",
   "execution_count": null,
   "metadata": {},
   "outputs": [],
   "source": [
    "raw_input_data = get_data(day=4)\n",
    "input_data = raw_input_data.split('\\n')"
   ]
  },
  {
   "cell_type": "code",
   "execution_count": null,
   "metadata": {},
   "outputs": [],
   "source": [
    "WORD = 'XMAS'\n",
    "W_LEN = range(len(WORD))\n",
    "## input[ROW][COL]\n",
    "## input[1][2] e.g. is 1 down, 2 to right\n",
    "right = [(0,i) for i in W_LEN]\n",
    "left = [(0,-i) for i in W_LEN]\n",
    "down = [(i,0) for i in W_LEN]\n",
    "up = [(-i,0) for i in W_LEN]\n",
    "ur = [(-i,i) for i in W_LEN]\n",
    "ul = [(-i,-i) for i in W_LEN]\n",
    "dr = [(i,i) for i in W_LEN]\n",
    "dl = [(i,-i) for i in W_LEN]\n",
    "DIRS = [right, left, up, down, ur, ul, dl, dr]"
   ]
  },
  {
   "cell_type": "code",
   "execution_count": null,
   "metadata": {},
   "outputs": [],
   "source": [
    "def check_letter(input, dir: list[tuple[int,int]], start_pos: tuple[int,int], idx: int):\n",
    "    r0, c0 = start_pos\n",
    "    r, c = dir[idx]\n",
    "    pos_row, pos_col = r0 + r, c0 + c \n",
    "    if 0 <= pos_row < len(input) and 0 <= pos_col < len(input[pos_row]) and input[pos_row][pos_col] == WORD[idx]:\n",
    "        return True\n",
    "    return False\n",
    "\n",
    "def check_word(input, dir, start_pos) -> bool:\n",
    "    for idx in W_LEN:\n",
    "        if not check_letter(input, dir, start_pos, idx):\n",
    "            return False\n",
    "    return True\n",
    "\n",
    "def check_all_dirs(input, start_pos) -> int:\n",
    "    total = 0\n",
    "    for dir in DIRS:\n",
    "        if check_word(input, dir, start_pos):\n",
    "            total += 1\n",
    "    return total\n",
    "\n",
    "def get_answer(input):\n",
    "    answer = 0\n",
    "    for row in range(len(input)):\n",
    "        for col in range(len(input[row])):\n",
    "            answer += check_all_dirs(input, (row, col))\n",
    "    return answer"
   ]
  },
  {
   "cell_type": "code",
   "execution_count": null,
   "metadata": {},
   "outputs": [],
   "source": [
    "get_answer(input_data)"
   ]
  },
  {
   "cell_type": "markdown",
   "metadata": {},
   "source": [
    "## Part 2"
   ]
  },
  {
   "cell_type": "code",
   "execution_count": null,
   "metadata": {},
   "outputs": [],
   "source": [
    "def check_diag(input, pos, dir):\n",
    "    r0, c0 = pos\n",
    "    if not all([0<= r0 + d[0] < len(input) for d in dir]) or not all([0<= c0 + d[1] < len(input[d[0]]) for d in dir]):\n",
    "        return False\n",
    "    else:\n",
    "        return set([input[r0 + d[0]][c0+ d[1]] for d in dir]) == {'M','S'}\n",
    "\n",
    "def check_xmas(input, pos):\n",
    "    r0, c0 = pos\n",
    "    if not input[r0][c0] == 'A':\n",
    "        return False\n",
    "    dirs = [[(-1,-1), (1,1)],[(-1,1), (1,-1)]]\n",
    "    for dir in dirs:\n",
    "        if not check_diag(input,pos, dir):\n",
    "            return False\n",
    "    return True\n",
    "\n",
    "def get_answer(input):\n",
    "    answer = 0\n",
    "    for row in range(len(input)):\n",
    "        for col in range(len(input[row])):\n",
    "            if check_xmas(input, (row, col)):\n",
    "                answer += 1\n",
    "    return answer"
   ]
  },
  {
   "cell_type": "code",
   "execution_count": null,
   "metadata": {},
   "outputs": [],
   "source": [
    "get_answer(input_data)"
   ]
  },
  {
   "cell_type": "code",
   "execution_count": null,
   "metadata": {},
   "outputs": [],
   "source": []
  }
 ],
 "metadata": {
  "kernelspec": {
   "display_name": "aoc",
   "language": "python",
   "name": "python3"
  },
  "language_info": {
   "codemirror_mode": {
    "name": "ipython",
    "version": 3
   },
   "file_extension": ".py",
   "mimetype": "text/x-python",
   "name": "python",
   "nbconvert_exporter": "python",
   "pygments_lexer": "ipython3",
   "version": "3.12.7"
  }
 },
 "nbformat": 4,
 "nbformat_minor": 2
}
